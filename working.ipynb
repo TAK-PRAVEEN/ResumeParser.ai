{
 "cells": [
  {
   "cell_type": "code",
   "execution_count": null,
   "id": "a06c692a",
   "metadata": {},
   "outputs": [],
   "source": [
    "import pandas as pd\n",
    "\n",
    "df = pd.read_csv(\"path/to/resume-dataset.csv\")\n",
    "print(df.head())"
   ]
  }
 ],
 "metadata": {
  "kernelspec": {
   "display_name": ".venv",
   "language": "python",
   "name": "python3"
  },
  "language_info": {
   "name": "python",
   "version": "3.9.13"
  }
 },
 "nbformat": 4,
 "nbformat_minor": 5
}
