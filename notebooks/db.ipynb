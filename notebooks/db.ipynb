{
 "cells": [
  {
   "cell_type": "code",
   "execution_count": 1,
   "id": "00a25570",
   "metadata": {},
   "outputs": [
    {
     "name": "stdout",
     "output_type": "stream",
     "text": [
      "Pinged your deployment. You successfully connected to MongoDB!\n"
     ]
    }
   ],
   "source": [
    "from dotenv import load_dotenv\n",
    "import os\n",
    "from pymongo.mongo_client import MongoClient\n",
    "\n",
    "load_dotenv()\n",
    "\n",
    "uri = os.getenv(\"MONGODB_URI\")\n",
    "\n",
    "# Create a new client and connect to the server\n",
    "client = MongoClient(uri)\n",
    "\n",
    "# Send a ping to confirm a successful connection\n",
    "try:\n",
    "    client.admin.command('ping')\n",
    "    print(\"Pinged your deployment. You successfully connected to MongoDB!\")\n",
    "except Exception as e:\n",
    "    print(e)"
   ]
  },
  {
   "cell_type": "code",
   "execution_count": 4,
   "id": "cb7f192c",
   "metadata": {},
   "outputs": [],
   "source": [
    "# from db import db\n",
    "from bson.objectid import ObjectId\n",
    "db = client[\"ResumeParser\"]\n",
    "resumes = db[\"resumes\"]\n",
    "\n",
    "def insert_resume(email, resume_data):\n",
    "    return resumes.insert_one({\"email\": email, \"resume\": resume_data}).inserted_id\n",
    "\n",
    "def get_resumes_by_email(email):\n",
    "    return list(resumes.find({\"email\": email}))\n",
    "\n",
    "def get_resume_by_id(resume_id):\n",
    "    return resumes.find_one({\"_id\": ObjectId(resume_id)})\n"
   ]
  },
  {
   "cell_type": "code",
   "execution_count": 5,
   "id": "2327f1bb",
   "metadata": {},
   "outputs": [
    {
     "data": {
      "text/plain": [
       "ObjectId('686f60dff5a4243a5d546f03')"
      ]
     },
     "execution_count": 5,
     "metadata": {},
     "output_type": "execute_result"
    }
   ],
   "source": [
    "insert_resume(\"praveentak715@gmail.com\", \"account123\")"
   ]
  },
  {
   "cell_type": "code",
   "execution_count": 6,
   "id": "5e9b6567",
   "metadata": {},
   "outputs": [],
   "source": [
    "\n",
    "import bcrypt\n",
    "\n",
    "users = db[\"users\"]\n",
    "\n",
    "def register_user(email, password):\n",
    "    if users.find_one({\"email\": email}):\n",
    "        return False, \"Email already exists\"\n",
    "    hashed = bcrypt.hashpw(password.encode(), bcrypt.gensalt())\n",
    "    users.insert_one({\"email\": email, \"password\": hashed})\n",
    "    return True, \"User registered\"\n",
    "\n",
    "def validate_login(email, password):\n",
    "    user = users.find_one({\"email\": email})\n",
    "    if user and bcrypt.checkpw(password.encode(), user[\"password\"]):\n",
    "        return True\n",
    "    return False"
   ]
  },
  {
   "cell_type": "code",
   "execution_count": 8,
   "id": "fb74ca9f",
   "metadata": {},
   "outputs": [
    {
     "data": {
      "text/plain": [
       "(True, 'User registered')"
      ]
     },
     "execution_count": 8,
     "metadata": {},
     "output_type": "execute_result"
    }
   ],
   "source": [
    "register_user(\"praveentak715@gmail.com\", \"account123\")"
   ]
  },
  {
   "cell_type": "code",
   "execution_count": 9,
   "id": "4821f956",
   "metadata": {},
   "outputs": [
    {
     "data": {
      "text/plain": [
       "True"
      ]
     },
     "execution_count": 9,
     "metadata": {},
     "output_type": "execute_result"
    }
   ],
   "source": [
    "validate_login(\"praveentak715@gmail.com\", \"account123\")"
   ]
  },
  {
   "cell_type": "code",
   "execution_count": 10,
   "id": "e168c78f",
   "metadata": {},
   "outputs": [],
   "source": [
    "import bcrypt\n",
    "\n",
    "def hash_password(password):\n",
    "    return bcrypt.hashpw(password.encode(), bcrypt.gensalt())\n",
    "\n",
    "def verify_password(password, hashed):\n",
    "    return bcrypt.checkpw(password.encode(), hashed)"
   ]
  },
  {
   "cell_type": "code",
   "execution_count": null,
   "id": "385261e5",
   "metadata": {},
   "outputs": [],
   "source": [
    "hash_password()"
   ]
  }
 ],
 "metadata": {
  "kernelspec": {
   "display_name": ".venv",
   "language": "python",
   "name": "python3"
  },
  "language_info": {
   "codemirror_mode": {
    "name": "ipython",
    "version": 3
   },
   "file_extension": ".py",
   "mimetype": "text/x-python",
   "name": "python",
   "nbconvert_exporter": "python",
   "pygments_lexer": "ipython3",
   "version": "3.9.13"
  }
 },
 "nbformat": 4,
 "nbformat_minor": 5
}
